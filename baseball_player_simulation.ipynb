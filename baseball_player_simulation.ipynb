{
 "cells": [
  {
   "cell_type": "code",
   "execution_count": 1,
   "metadata": {},
   "outputs": [],
   "source": [
    "import pandas as pd\n",
    "import numpy as np\n",
    "from bs4 import BeautifulSoup as bs\n",
    "from urllib.request import urlopen\n",
    "from datetime import datetime\n",
    "import pandas as pd\n",
    "import numpy as np\n",
    "import re\n",
    "from unicodedata import normalize\n",
    "import requests\n",
    "import pandas as pd\n",
    "import numpy as np\n",
    "import time\n",
    "from IPython.core.display import HTML\n",
    "import pickle\n",
    "import random\n",
    "import matplotlib.pyplot as plt\n",
    "import seaborn as sn\n",
    "from functools import reduce\n"
   ]
  },
  {
   "cell_type": "code",
   "execution_count": 2,
   "metadata": {},
   "outputs": [],
   "source": [
    "n = ['Roberto Perez', 'Yadier Molina', 'Victor Caratini', 'Willson Contreras',\n",
    " 'Christian Vazquez', 'Eric Hosmer', 'Hunter Dozier', 'Josh Bell',\n",
    " 'DJ LeMahieu', 'Luke Voit', 'Derek Dietrich', 'Javier Baez',\n",
    " 'Jose Altuve', 'Manny Machado', 'Francisco Lindor', 'Didi Gregorius',\n",
    " 'Carlos Correa', 'Matt Chapman', 'Eddie Rosario', 'Christian Yelich',\n",
    " 'Nick Markakis', 'Bryce Harper', 'Adam Jones', 'Jason Heyward', 'Lorenzo Cain'\n",
    "    ]\n",
    "## note that they have the same order\n",
    "t = ['CLE', 'STL', 'CHC', 'CHC', 'BOS', 'SD', 'KC', 'PIT', 'NYY', 'NYY', 'CIN', 'CHC', 'HOU', 'SD', 'CLE', 'NYY',\n",
    " 'HOU', 'OAK', 'MIN', 'MIL', 'ATL', 'PHI', 'ARI', 'CHC', 'MIL'\n",
    "    ]\n",
    "### all mlb teams\n",
    "club_shorts= ['col','nyy', 'sd', 'chc', 'bos', 'bal', 'phi','pit',\n",
    "              'chw','tb','kc','cle','tor', 'det', 'stl', 'cin',\n",
    "              'wsh','atl','tex', 'hou', 'oak','min', 'mil',\n",
    "              'ari', 'laa', 'sea', 'mia', 'lad', 'nym', 'sf']"
   ]
  },
  {
   "cell_type": "code",
   "execution_count": 3,
   "metadata": {},
   "outputs": [],
   "source": [
    "def soup_maker(url):\n",
    "    \n",
    "    \"\"\"\n",
    "    url: 'str'\n",
    "        takes the url of the page\n",
    "    return:\n",
    "    pageSoup: soup object\n",
    "    \"\"\"\n",
    "    headers = {'User-Agent': \n",
    "           'Mozilla/5.0 (X11; Linux x86_64) AppleWebKit/537.36 (KHTML, like Gecko) Chrome/47.0.2526.106 Safari/537.36'}\n",
    "    \n",
    "    page = url\n",
    "    \n",
    "    pageTree = requests.get(page, headers=headers,timeout=5)\n",
    "    \n",
    "    pageSoup = bs(pageTree.content, 'lxml')\n",
    "    \n",
    "    return pageSoup\n",
    "\n",
    "def read_games(tables):\n",
    "    \"\"\"\n",
    "    for each player read_games will return a players game logs for a given year.\n",
    "    This data already scraped with soup_maker function. \n",
    "    tables: soup object\n",
    "    \n",
    "    output:\n",
    "    games: list of dictionaries. Each dictionary represents a game.\n",
    "    \"\"\"\n",
    "    colhead = []\n",
    "    games = []\n",
    "    gameday ={}\n",
    "    for table in tables:\n",
    "        if 'regular season games' in table.text.lower():\n",
    "            colhead_tds = table.findAll('tr', {'class': 'colhead'})[0].findAll('td')\n",
    "            for td in colhead_tds:\n",
    "                colhead.append(td.text)\n",
    "            evenrows = table.findAll('tr', {'class': 'evenrow'})\n",
    "            for evenrow in evenrows:        \n",
    "                if not 'bi' in evenrow['class']:\n",
    "                    cells = evenrow.findAll('td')\n",
    "                    for name,cell in zip(colhead,cells):\n",
    "                        gameday[name] = cell.text\n",
    "                    games.append(gameday)\n",
    "                    gameday = {}\n",
    "            oddrows = table.findAll('tr', {'class': 'oddrow'})\n",
    "            for oddrow in oddrows:\n",
    "                if not 'bi' in oddrow['class']:\n",
    "                    cells = oddrow.findAll('td')\n",
    "                    for name,cell in zip(colhead,cells):\n",
    "                        gameday[name] = cell.text\n",
    "                    games.append(gameday)\n",
    "                    gameday = {} \n",
    "    return games\n",
    "\n",
    "def player_records(year = '2019', player_id = '32127'):\n",
    "    \"\"\"\n",
    "    Given a year and player_id player_records activated read_games function by passing \n",
    "    the soup object of the relevant webpage.\n",
    "    returns: \n",
    "    games: From read_games- this is a list of dictionaries.\n",
    "    \"\"\"\n",
    "    url = 'http://www.espn.com/mlb/player/gamelog/_/id/{}/year/{}'.format(player_id, year)\n",
    "    soup = soup_maker(url)\n",
    "    tables = soup.findAll('table', {'class':'tablehead mod-player-stats'})\n",
    "    return read_games(tables)"
   ]
  },
  {
   "cell_type": "code",
   "execution_count": 4,
   "metadata": {},
   "outputs": [],
   "source": [
    "def club_rosters(url, club):\n",
    "    \"\"\"\n",
    "    Given a baseball club url in espn \n",
    "    this functions returns its players and the link to this player\n",
    "    game logs. \n",
    "    url: string type\n",
    "    club: string type\n",
    "    \"\"\"\n",
    "    player_list = []\n",
    "    player_info = {}\n",
    "    soup= soup_maker(url)\n",
    "    for a in soup.findAll('td', {'class': 'Table2__td'}):\n",
    "        hrefs = a.findAll('a', href = True)\n",
    "        for link in hrefs:\n",
    "            if link.text:\n",
    "                name = link.text.lower().split()\n",
    "                player_info['full_name'] = link.text.lower()\n",
    "                player_info['name'] = name[0]\n",
    "                player_info['last_name'] = name[-1]\n",
    "                if len(name[1:])>1:\n",
    "                    player_info['middle_name'] = name[1:-1]\n",
    "                player_info['link'] = link['href']\n",
    "                player_info['id'] = link['href'].split('/')[-1]\n",
    "                player_info['club'] = club\n",
    "                player_list.append(player_info)\n",
    "                player_info = {}\n",
    "    return player_list"
   ]
  },
  {
   "cell_type": "code",
   "execution_count": 5,
   "metadata": {},
   "outputs": [],
   "source": [
    "def mlb_players(club_list):\n",
    "    \"\"\"\n",
    "    Uses club_roster function to get player list from multiple clubs\n",
    "    input\n",
    "    club_list: list of strings.\n",
    "    returns\n",
    "    df: dataframe of players from given list of clubs. columns are \n",
    "    'id', 'name', 'url' etc.\n",
    "    \"\"\"\n",
    "    rosters = []\n",
    "    for name in club_list:\n",
    "        url = 'https://www.espn.com/mlb/team/roster/_/name/{}'.format(name)\n",
    "        rosters += club_rosters(url, name)\n",
    "        df = pd.DataFrame(rosters)\n",
    "    return df"
   ]
  },
  {
   "cell_type": "code",
   "execution_count": 6,
   "metadata": {},
   "outputs": [],
   "source": [
    "def player_stats(player_list, club_list, years):\n",
    "    \"\"\"\n",
    "    Given list of players and list of clubs and year this function returns\n",
    "    given players all game logs in that given year.\n",
    "    first we used mlb_players and then returned the result of player_records\n",
    "    player_list: list of strings\n",
    "    club_list: list of strings\n",
    "    years: list of strings\n",
    "    returns\n",
    "    \n",
    "    \"\"\"\n",
    "    data = {}\n",
    "    rosters = mlb_players(club_list)\n",
    "    for year in years:\n",
    "        data[year] = {}\n",
    "        for player in player_list:\n",
    "            player= player.lower()\n",
    "            if not rosters[rosters.full_name == player].empty:\n",
    "                player_id = rosters[rosters.full_name ==player]['id'].values[0]\n",
    "                data[year][player] = player_records(player_id=player_id, year = year)\n",
    "            else:\n",
    "                print('Player is not found:', player)\n",
    "                continue\n",
    "    return data"
   ]
  },
  {
   "cell_type": "code",
   "execution_count": 361,
   "metadata": {},
   "outputs": [],
   "source": [
    "# dict_19 = player_stats(n, t, years = ['2019'])\n",
    "\n",
    "## add injured players into the data\n",
    "\n",
    "# molina = player_records(year = '2019', player_id = '5986')\n",
    "# contreras = player_records(year = '2019', player_id = '32532')\n",
    "# correa = player_records(year = '2019', player_id = '32653')\n",
    "#hicks = player_records(year = '2019', player_id = '31253')\n",
    "#dict_19['2019']['aaron hicks'] = hicks\n",
    "# dict_19['2019']['carlos correa'] = correa\n",
    "# dict_19['2019']['willson contreras'] = contreras\n",
    "# dict_19['2019']['yadier molina'] = molina\n",
    "#pickle.dump(dict_19, open(\"game_logs_2019_07_20.dict\", \"wb\" ) )\n",
    "\n",
    "## same for the 2018 data\n",
    "\n",
    "# dict_18 = player_stats(n, t, years = ['2018'])\n",
    "# molina = player_records(year = '2018', player_id = '5986')\n",
    "# contreras = player_records(year = '2018', player_id = '32532')\n",
    "# correa = player_records(year = '2018', player_id = '32653')\n",
    "\n",
    "# dict_18['2018']['carlos correa'] = correa\n",
    "# dict_18['2018']['willson contreras'] = contreras\n",
    "# dict_18['2018']['yadier molina'] = molina\n",
    "\n",
    "#pickle.dump(data, open('game_logs_2018.dict', 'wb') )\n",
    "\n"
   ]
  },
  {
   "cell_type": "code",
   "execution_count": 7,
   "metadata": {},
   "outputs": [],
   "source": [
    "with open(r\"game_logs_2019_07_20.dict\", \"rb\") as input_file:\n",
    "       dict_19 = pickle.load(input_file)"
   ]
  },
  {
   "cell_type": "code",
   "execution_count": 8,
   "metadata": {},
   "outputs": [],
   "source": [
    "def fantasy_points(game):\n",
    "    points = int(game['BB']) + 2*int(game['2B']) + 3*int(game['3B']) +\\\n",
    "        4*int(game['HR']) + int(game['R']) + int(game['RBI']) + \\\n",
    "        int(game['SB']) - int(game['CS'])  + int(game['H']) -\\\n",
    "         int(game['HR']) - int(game['2B']) - int(game['3B']) \n",
    "    return points\n",
    "\n",
    "\n",
    "\n",
    "def distributions(data, player, year):\n",
    "    player_data ={}\n",
    "    player_data['name'] = player\n",
    "    player_data['year'] = year\n",
    "    player = player.lower()\n",
    "    games = data[year][player]\n",
    "    scores = []\n",
    "    for game in games:\n",
    "        try:\n",
    "            score = fantasy_points(game)\n",
    "            scores.append(score)\n",
    "        except:\n",
    "            continue\n",
    "    player_data['scores'] = scores\n",
    "    return player_data\n",
    "\n",
    "\n",
    "def teams_to_players(list_of_players):\n",
    "    d ={}\n",
    "    players = [i.lower() for i in list_of_players]\n",
    "    name_team = zip(n,t)\n",
    "    lst = [(i.lower(), j.lower()) for i,j in name_team if i.lower() in players]\n",
    "    Output = {} \n",
    "    for x, y in lst: \n",
    "        if y in Output: \n",
    "            Output[y].append(x) \n",
    "        else: \n",
    "            Output[y] = [x] \n",
    "  \n",
    "    return Output"
   ]
  },
  {
   "cell_type": "code",
   "execution_count": 65,
   "metadata": {},
   "outputs": [],
   "source": [
    "def logs_with_scores(player_list):\n",
    "    records = {}\n",
    "    dfs = []\n",
    "    for player in player_list:\n",
    "        player = player.lower()\n",
    "        game_logs = []\n",
    "        for game in dict_19['2019'][player]:\n",
    "            try:\n",
    "                score = fantasy_points(game)\n",
    "                game['score'] = score\n",
    "                game['player'] = player\n",
    "                game_logs.append(game)\n",
    "            except:\n",
    "                continue\n",
    "        records[player] = pd.DataFrame(game_logs)\n",
    "        \n",
    "    dfs = [pd.DataFrame(b) for a,b in records.items()]\n",
    "    return dfs"
   ]
  },
  {
   "cell_type": "code",
   "execution_count": 10,
   "metadata": {},
   "outputs": [],
   "source": [
    "def merge_dataframes(list_of_dataframes):\n",
    "    n = len(list_of_dataframes)\n",
    "    if n ==1:\n",
    "        return list_of_dataframes[0][['score']]\n",
    "    name_list =[]\n",
    "    score_index = []\n",
    "    for m in list_of_dataframes:\n",
    "        name_list.append(m.player.unique()[0].split()[-1])\n",
    "    df = list_of_dataframes[0]\n",
    "    for i in range(n-1):\n",
    "        df = df.merge(right = list_of_dataframes[i+1], on='DATE', how = 'inner', suffixes=('', '_'+ name_list[i+1]))\n",
    "        score_index.append('score''_'+ name_list[i+1])\n",
    "    \n",
    "    return df[score_index]"
   ]
  },
  {
   "cell_type": "code",
   "execution_count": 302,
   "metadata": {},
   "outputs": [],
   "source": [
    "def game_simulator(players, k = 50, threshold =20):\n",
    "    scores = []\n",
    "    t = np.zeros(k)\n",
    "    dc = teams_to_players(players)\n",
    "    for l in dc.values():\n",
    "        df_list = logs_with_scores(l)\n",
    "        merged_df = merge_dataframes(df_list)\n",
    "        samples = merged_df.sample(k, replace=True)\n",
    "        scores.append(samples.apply(sum, axis=1).values)\n",
    "    for s in scores:\n",
    "        t += s\n",
    "    p = (t >threshold).sum()/len(s)\n",
    "    print('variance of sim:%.2f'%(np.std(t)))\n",
    "    print('mean of sim: %.2f'%(np.mean(t)))\n",
    "    print('probability of getting a score higher than threshold: %.2f'%(p))\n",
    "\n",
    "    return t, p"
   ]
  },
  {
   "cell_type": "code",
   "execution_count": 307,
   "metadata": {},
   "outputs": [
    {
     "name": "stdout",
     "output_type": "stream",
     "text": [
      "variance of sim:10.21\n",
      "mean of sim: 30.75\n",
      "probability of getting a score higher than threshold: 0.53\n"
     ]
    }
   ],
   "source": [
    "line_up = ('Javier Baez', 'Yadier Molina','Josh Bell', 'DJ LeMahieu',\n",
    "     'Francisco Lindor', 'Manny Machado', 'Bryce Harper',\n",
    "     'Christian Yelich', 'Eddie Rosario')\n",
    "line_up2 = ('Eric Hosmer', 'Willson Contreras', \n",
    "            'Josh Bell', 'DJ LeMahieu', 'Javier Baez', 'Francisco Lindor',\n",
    "           'Eddie Rosario', 'Christian Yelich', 'Lorenzo Cain')\n",
    "s, p =game_simulator(players=line_up4, k= 500, threshold=28)"
   ]
  },
  {
   "cell_type": "code",
   "execution_count": 153,
   "metadata": {},
   "outputs": [],
   "source": [
    "line_up3 = ('Luke Voit', 'Willson Contreras', \n",
    "            'Josh Bell', 'DJ LeMahieu', 'Javier Baez', 'Eddie Rosario',\n",
    "           'Manny Machado', 'Christian Yelich', 'Nick Markasis')"
   ]
  },
  {
   "cell_type": "code",
   "execution_count": 308,
   "metadata": {},
   "outputs": [
    {
     "name": "stdout",
     "output_type": "stream",
     "text": [
      "variance of sim:10.24\n",
      "mean of sim: 30.61\n",
      "probability of getting a score higher than threshold: 0.52\n"
     ]
    }
   ],
   "source": [
    "line_up05_24 = ('Francisco Lindor', 'Willson Contreras', \n",
    "            'Josh Bell', 'DJ LeMahieu', 'Javier Baez', 'Eddie Rosario',\n",
    "           'Manny Machado', 'Bryce Harper', 'Carlos Correa')\n",
    "s, p =game_simulator(players=line_up05_24, k= 500, threshold=28)"
   ]
  },
  {
   "cell_type": "code",
   "execution_count": 340,
   "metadata": {},
   "outputs": [
    {
     "name": "stdout",
     "output_type": "stream",
     "text": [
      "variance of sim:9.27\n",
      "mean of sim: 26.34\n",
      "probability of getting a score higher than threshold: 0.23\n"
     ]
    },
    {
     "data": {
      "image/png": "[encoded data removed]",
      "text/plain": [
       "<Figure size 432x288 with 1 Axes>"
      ]
     },
     "metadata": {
      "needs_background": "light"
     },
     "output_type": "display_data"
    }
   ],
   "source": [
    "line_up05_25 = ('Eric Hosmer', 'Willson Contreras', \n",
    "            'Josh Bell', 'DJ LeMahieu', 'Javier Baez', 'Nick Markakis',\n",
    "           'Manny Machado', 'Bryce Harper', 'Carlos Correa')\n",
    "s, p =game_simulator(players=line_up05_25, k= 500, threshold=32)\n",
    "plt.hist(s)\n",
    "plt.show()"
   ]
  },
  {
   "cell_type": "code",
   "execution_count": 339,
   "metadata": {},
   "outputs": [
    {
     "name": "stdout",
     "output_type": "stream",
     "text": [
      "variance of sim:10.73\n",
      "mean of sim: 30.89\n",
      "probability of getting a score higher than threshold: 0.33\n"
     ]
    },
    {
     "data": {
      "image/png": "[encoded data removed]",
      "text/plain": [
       "<Figure size 432x288 with 1 Axes>"
      ]
     },
     "metadata": {
      "needs_background": "light"
     },
     "output_type": "display_data"
    }
   ],
   "source": [
    "\n",
    "line_up05_26 = ('Eddie Rosario', 'Willson Contreras', \n",
    "            'Josh Bell', 'DJ LeMahieu', 'Javier Baez', 'Nick Markakis',\n",
    "           'Manny Machado', 'Christian Yelich', 'Carlos Correa')\n",
    "s, p =game_simulator(players=line_up05_26, k= 500, threshold=34)\n",
    "plt.hist(s)\n",
    "plt.show()"
   ]
  },
  {
   "cell_type": "code",
   "execution_count": 338,
   "metadata": {},
   "outputs": [
    {
     "name": "stdout",
     "output_type": "stream",
     "text": [
      "variance of sim:11.00\n",
      "mean of sim: 32.46\n",
      "probability of getting a score higher than threshold: 0.93\n"
     ]
    },
    {
     "data": {
      "image/png": "[encoded data removed]",
      "text/plain": [
       "<Figure size 432x288 with 1 Axes>"
      ]
     },
     "metadata": {
      "needs_background": "light"
     },
     "output_type": "display_data"
    }
   ],
   "source": [
    "line_up05_31 = ('Hunter Dozier', 'Willson Contreras', \n",
    "            'Josh Bell', 'DJ LeMahieu', 'Javier Baez','Manny Machado',\n",
    "            'Eddie Rosario','Christian Yelich', 'Bryce Harper')\n",
    "s, p =game_simulator(players=line_up05_31, k= 500, threshold=17)\n",
    "plt.hist(s)\n",
    "plt.show()"
   ]
  },
  {
   "cell_type": "code",
   "execution_count": 337,
   "metadata": {},
   "outputs": [
    {
     "name": "stdout",
     "output_type": "stream",
     "text": [
      "variance of sim:9.57\n",
      "mean of sim: 28.16\n",
      "probability of getting a score higher than threshold: 0.50\n"
     ]
    },
    {
     "data": {
      "image/png": "[encoded data removed]",
      "text/plain": [
       "<Figure size 432x288 with 1 Axes>"
      ]
     },
     "metadata": {
      "needs_background": "light"
     },
     "output_type": "display_data"
    }
   ],
   "source": [
    "line_up06_01 = ('eric hosmer', 'Willson Contreras', \n",
    "            'Josh Bell', 'DJ LeMahieu', 'Javier Baez','Manny Machado',\n",
    "            'Eddie Rosario','Christian Yelich', 'Bryce Harper')\n",
    "s, p =game_simulator(players=line_up06_01, k= 500, threshold=27)\n",
    "plt.hist(s)\n",
    "plt.show()"
   ]
  },
  {
   "cell_type": "code",
   "execution_count": 336,
   "metadata": {},
   "outputs": [
    {
     "name": "stdout",
     "output_type": "stream",
     "text": [
      "variance of sim:10.51\n",
      "mean of sim: 29.47\n",
      "probability of getting a score higher than threshold: 0.52\n"
     ]
    },
    {
     "data": {
      "image/png": "[encoded data removed]",
      "text/plain": [
       "<Figure size 432x288 with 1 Axes>"
      ]
     },
     "metadata": {
      "needs_background": "light"
     },
     "output_type": "display_data"
    }
   ],
   "source": [
    "line_up06_02 = ('luke voit', 'Willson Contreras', \n",
    "            'Derek Dietrich', 'DJ LeMahieu', 'Matt Chapman','Francisco Lindor',\n",
    "            'Eddie Rosario','Christian Yelich', 'Bryce Harper')\n",
    "s, p =game_simulator(players=line_up06_02, k= 500, threshold=28)\n",
    "plt.hist(s)\n",
    "plt.show()"
   ]
  },
  {
   "cell_type": "code",
   "execution_count": 335,
   "metadata": {},
   "outputs": [
    {
     "name": "stdout",
     "output_type": "stream",
     "text": [
      "variance of sim:10.90\n",
      "mean of sim: 31.11\n",
      "probability of getting a score higher than threshold: 0.96\n"
     ]
    },
    {
     "data": {
      "image/png": "[encoded data removed]",
      "text/plain": [
       "<Figure size 432x288 with 1 Axes>"
      ]
     },
     "metadata": {
      "needs_background": "light"
     },
     "output_type": "display_data"
    }
   ],
   "source": [
    "line_up06_07 = ('luke voit', 'Willson Contreras', \n",
    "            'Josh Bell', 'DJ LeMahieu', 'Matt Chapman','Francisco Lindor',\n",
    "            'Eddie Rosario','Christian Yelich', 'Bryce Harper')\n",
    "s, p =game_simulator(players=line_up06_07, k= 500, threshold=14)\n",
    "plt.hist(s)\n",
    "plt.show()"
   ]
  },
  {
   "cell_type": "code",
   "execution_count": 331,
   "metadata": {},
   "outputs": [
    {
     "name": "stdout",
     "output_type": "stream",
     "text": [
      "variance of sim:9.91\n",
      "mean of sim: 31.19\n",
      "probability of getting a score higher than threshold: 0.63\n"
     ]
    }
   ],
   "source": [
    "line_up06_08 = ('javier baez', 'Willson Contreras', \n",
    "            'Josh Bell', 'DJ LeMahieu', 'Matt Chapman','Francisco Lindor',\n",
    "            'Eddie Rosario','Christian Yelich', 'Nick Markakis')\n",
    "s, p =game_simulator(players=line_up06_08, k= 500, threshold=26)"
   ]
  },
  {
   "cell_type": "code",
   "execution_count": 332,
   "metadata": {},
   "outputs": [
    {
     "data": {
      "text/plain": [
       "(array([ 11.,  44., 128., 105.,  92.,  81.,  27.,   7.,   4.,   1.]),\n",
       " array([ 7. , 13.4, 19.8, 26.2, 32.6, 39. , 45.4, 51.8, 58.2, 64.6, 71. ]),\n",
       " <a list of 10 Patch objects>)"
      ]
     },
     "execution_count": 332,
     "metadata": {},
     "output_type": "execute_result"
    },
    {
     "data": {
      "image/png": "[encoded data removed]",
      "text/plain": [
       "<Figure size 432x288 with 1 Axes>"
      ]
     },
     "metadata": {
      "needs_background": "light"
     },
     "output_type": "display_data"
    }
   ],
   "source": [
    "plt.hist(s)"
   ]
  },
  {
   "cell_type": "code",
   "execution_count": 345,
   "metadata": {},
   "outputs": [
    {
     "name": "stdout",
     "output_type": "stream",
     "text": [
      "variance of sim:9.68\n",
      "mean of sim: 27.15\n",
      "probability of getting a score higher than threshold: 0.76\n"
     ]
    },
    {
     "data": {
      "image/png": "[encoded data removed]",
      "text/plain": [
       "<Figure size 432x288 with 1 Axes>"
      ]
     },
     "metadata": {
      "needs_background": "light"
     },
     "output_type": "display_data"
    }
   ],
   "source": [
    "line_up06_09 = ('javier baez', 'Willson Contreras', \n",
    "            'Josh Bell', 'DJ LeMahieu', 'Luke Voit','Francisco Lindor',\n",
    "            'Bryce Harper','Christian Yelich', 'Nick Markakis')\n",
    "s, p =game_simulator(players=line_up06_09, k= 500, threshold=20)\n",
    "plt.hist(s)\n",
    "plt.show()"
   ]
  },
  {
   "cell_type": "code",
   "execution_count": 344,
   "metadata": {},
   "outputs": [
    {
     "name": "stdout",
     "output_type": "stream",
     "text": [
      "variance of sim:8.95\n",
      "mean of sim: 25.72\n",
      "probability of getting a score higher than threshold: 0.26\n"
     ]
    },
    {
     "data": {
      "image/png": "[encoded data removed]",
      "text/plain": [
       "<Figure size 432x288 with 1 Axes>"
      ]
     },
     "metadata": {
      "needs_background": "light"
     },
     "output_type": "display_data"
    }
   ],
   "source": [
    "line_up06_14 = ('Eric Hosmer', 'Willson Contreras', \n",
    "            'Josh Bell', 'DJ LeMahieu', 'Javier Baez','Francisco Lindor',\n",
    "            'Eddie Rosario','Christian Yelich', 'Lorenzo Cain')\n",
    "s, p =game_simulator(players=line_up06_14, k= 500, threshold=31)\n",
    "plt.hist(s)\n",
    "plt.show()"
   ]
  },
  {
   "cell_type": "code",
   "execution_count": 347,
   "metadata": {},
   "outputs": [
    {
     "name": "stdout",
     "output_type": "stream",
     "text": [
      "variance of sim:9.72\n",
      "mean of sim: 26.80\n",
      "probability of getting a score higher than threshold: 0.49\n"
     ]
    },
    {
     "data": {
      "image/png": "[encoded data removed]",
      "text/plain": [
       "<Figure size 432x288 with 1 Axes>"
      ]
     },
     "metadata": {
      "needs_background": "light"
     },
     "output_type": "display_data"
    }
   ],
   "source": [
    "line_up06_15 = ('Luke Voit', 'Willson Contreras', \n",
    "            'Josh Bell', 'DJ LeMahieu', 'Javier Baez','Manny Machado',\n",
    "            'Eddie Rosario','Christian Yelich', 'Nick Markakis')\n",
    "s, p =game_simulator(players=line_up06_15, k= 500, threshold=26)\n",
    "plt.hist(s)\n",
    "plt.show()"
   ]
  },
  {
   "cell_type": "code",
   "execution_count": 349,
   "metadata": {},
   "outputs": [
    {
     "name": "stdout",
     "output_type": "stream",
     "text": [
      "variance of sim:11.45\n",
      "mean of sim: 32.63\n",
      "probability of getting a score higher than threshold: 0.47\n"
     ]
    },
    {
     "data": {
      "image/png": "[encoded data removed]",
      "text/plain": [
       "<Figure size 432x288 with 1 Axes>"
      ]
     },
     "metadata": {
      "needs_background": "light"
     },
     "output_type": "display_data"
    }
   ],
   "source": [
    "line_up06_16 = ('Eric Hosmer', 'Willson Contreras', \n",
    "            'Josh Bell', 'DJ LeMahieu', 'Manny Machado','Francisco Lindor',\n",
    "            'Eddie Rosario','Christian Yelich', 'Bryce Harper')\n",
    "s, p =game_simulator(players=line_up06_16, k= 500, threshold=32)\n",
    "plt.hist(s)\n",
    "plt.show()"
   ]
  },
  {
   "cell_type": "code",
   "execution_count": 351,
   "metadata": {},
   "outputs": [
    {
     "name": "stdout",
     "output_type": "stream",
     "text": [
      "variance of sim:10.83\n",
      "mean of sim: 33.74\n",
      "probability of getting a score higher than threshold: 0.35\n"
     ]
    },
    {
     "data": {
      "image/png": "[encoded data removed]",
      "text/plain": [
       "<Figure size 432x288 with 1 Axes>"
      ]
     },
     "metadata": {
      "needs_background": "light"
     },
     "output_type": "display_data"
    }
   ],
   "source": [
    "line_up06_21 = ('Yadier Molina', 'Bryce Harper', \n",
    "            'Josh Bell', 'DJ LeMahieu', 'Javier Baez','Manny Machado',\n",
    "            'Eddie Rosario','Christian Yelich', 'Francisco Lindor')\n",
    "s, p =game_simulator(players=line_up06_21, k= 500, threshold=36)\n",
    "plt.hist(s)\n",
    "plt.show()"
   ]
  },
  {
   "cell_type": "code",
   "execution_count": 353,
   "metadata": {},
   "outputs": [
    {
     "name": "stdout",
     "output_type": "stream",
     "text": [
      "variance of sim:9.06\n",
      "mean of sim: 25.84\n",
      "probability of getting a score higher than threshold: 0.26\n"
     ]
    },
    {
     "data": {
      "image/png": "[encoded data removed]",
      "text/plain": [
       "<Figure size 432x288 with 1 Axes>"
      ]
     },
     "metadata": {
      "needs_background": "light"
     },
     "output_type": "display_data"
    }
   ],
   "source": [
    "line_up06_22 = ('Willson Contreras', 'Bryce Harper', \n",
    "            'Josh Bell', 'DJ LeMahieu', 'Javier Baez','Manny Machado',\n",
    "            'Lorenzo Cain','Christian Yelich', 'Francisco Lindor')\n",
    "s, p =game_simulator(players=line_up06_22, k= 500, threshold=31)\n",
    "plt.hist(s)\n",
    "plt.show()"
   ]
  },
  {
   "cell_type": "code",
   "execution_count": 363,
   "metadata": {},
   "outputs": [
    {
     "name": "stdout",
     "output_type": "stream",
     "text": [
      "variance of sim:10.61\n",
      "mean of sim: 30.23\n",
      "probability of getting a score higher than threshold: 0.08\n"
     ]
    },
    {
     "data": {
      "image/png": "[encoded data removed]",
      "text/plain": [
       "<Figure size 432x288 with 1 Axes>"
      ]
     },
     "metadata": {
      "needs_background": "light"
     },
     "output_type": "display_data"
    }
   ],
   "source": [
    "line_up06_23 = ('Yadier Molina', 'Bryce Harper', \n",
    "            'Josh Bell', 'Matt Chapman', 'Javier Baez','Manny Machado',\n",
    "            'Jose Altuve','Christian Yelich', 'Aaron Hicks')\n",
    "s, p =game_simulator(players=line_up06_23, k= 500, threshold=45)\n",
    "plt.hist(s)\n",
    "plt.show()"
   ]
  },
  {
   "cell_type": "code",
   "execution_count": 366,
   "metadata": {},
   "outputs": [
    {
     "name": "stdout",
     "output_type": "stream",
     "text": [
      "variance of sim:8.98\n",
      "mean of sim: 25.49\n",
      "probability of getting a score higher than threshold: 1.00\n"
     ]
    },
    {
     "data": {
      "image/png": "[encoded data removed]",
      "text/plain": [
       "<Figure size 432x288 with 1 Axes>"
      ]
     },
     "metadata": {
      "needs_background": "light"
     },
     "output_type": "display_data"
    }
   ],
   "source": [
    "line_up06_28 = ('Francisco Lindor',\n",
    "                'Willson Contreras',\n",
    "                'Josh Bell', \n",
    "                'Javier Baez',\n",
    "                'Manny Machado',\n",
    "                'Jose Altuve',\n",
    "                'Bryce Harper',\n",
    "                'Christian Yelich',\n",
    "                'Lorenzo Cain'\n",
    "               )\n",
    "s, p =game_simulator(players=line_up06_28, k= 500, threshold=5)\n",
    "plt.hist(s)\n",
    "plt.show()"
   ]
  },
  {
   "cell_type": "code",
   "execution_count": 368,
   "metadata": {},
   "outputs": [
    {
     "name": "stdout",
     "output_type": "stream",
     "text": [
      "variance of sim:10.31\n",
      "mean of sim: 28.25\n",
      "probability of getting a score higher than threshold: 0.14\n"
     ]
    },
    {
     "data": {
      "image/png": "[encoded data removed]",
      "text/plain": [
       "<Figure size 432x288 with 1 Axes>"
      ]
     },
     "metadata": {
      "needs_background": "light"
     },
     "output_type": "display_data"
    }
   ],
   "source": [
    "line_up06_29 = ('Francisco Lindor',\n",
    "                'Willson Contreras',\n",
    "                'Josh Bell', \n",
    "                'Jose Altuve',\n",
    "                'Javier Baez',\n",
    "                'DJ LeMahieu',\n",
    "                'Bryce Harper',\n",
    "                'Christian Yelich',\n",
    "                'Aaron Hicks'\n",
    "               )\n",
    "s, p =game_simulator(players=line_up06_29, k= 500, threshold=40)\n",
    "plt.hist(s)\n",
    "plt.show()"
   ]
  },
  {
   "cell_type": "code",
   "execution_count": 370,
   "metadata": {},
   "outputs": [
    {
     "name": "stdout",
     "output_type": "stream",
     "text": [
      "variance of sim:9.86\n",
      "mean of sim: 27.85\n",
      "probability of getting a score higher than threshold: 0.08\n"
     ]
    },
    {
     "data": {
      "image/png": "[encoded data removed]",
      "text/plain": [
       "<Figure size 432x288 with 1 Axes>"
      ]
     },
     "metadata": {
      "needs_background": "light"
     },
     "output_type": "display_data"
    }
   ],
   "source": [
    "line_up06_30 = ('Bryce Harper',\n",
    "                'Yadier Molina',\n",
    "                'Josh Bell', \n",
    "                'DJ LeMahieu',\n",
    "                'Javier Baez',\n",
    "                'Manny Machado',\n",
    "                'Lorenzo Cain',\n",
    "                'Christian Yelich',\n",
    "                'Nick Markakis'\n",
    "               )\n",
    "s, p =game_simulator(players=line_up06_30, k= 500, threshold=42)\n",
    "plt.hist(s)\n",
    "plt.show()"
   ]
  },
  {
   "cell_type": "code",
   "execution_count": 372,
   "metadata": {},
   "outputs": [
    {
     "name": "stdout",
     "output_type": "stream",
     "text": [
      "variance of sim:10.13\n",
      "mean of sim: 26.13\n",
      "probability of getting a score higher than threshold: 0.44\n"
     ]
    },
    {
     "data": {
      "image/png": "[encoded data removed]",
      "text/plain": [
       "<Figure size 432x288 with 1 Axes>"
      ]
     },
     "metadata": {
      "needs_background": "light"
     },
     "output_type": "display_data"
    }
   ],
   "source": [
    "line_up07_05 = ('Luke Voit',\n",
    "                'Yadier Molina',\n",
    "                'Josh Bell', \n",
    "                'DJ LeMahieu',\n",
    "                'Manny Machado',\n",
    "                'Didi Gregorius',\n",
    "                'Bryce Harper',\n",
    "                'Christian Yelich',\n",
    "                'Aaron Hicks'\n",
    "               )\n",
    "s, p =game_simulator(players=line_up07_05, k= 500, threshold=27)\n",
    "plt.hist(s)\n",
    "plt.show()"
   ]
  },
  {
   "cell_type": "code",
   "execution_count": 373,
   "metadata": {},
   "outputs": [
    {
     "name": "stdout",
     "output_type": "stream",
     "text": [
      "variance of sim:9.19\n",
      "mean of sim: 23.68\n",
      "probability of getting a score higher than threshold: 0.09\n"
     ]
    },
    {
     "data": {
      "image/png": "[encoded data removed]",
      "text/plain": [
       "<Figure size 432x288 with 1 Axes>"
      ]
     },
     "metadata": {
      "needs_background": "light"
     },
     "output_type": "display_data"
    }
   ],
   "source": [
    "line_up07_06 = ('Javier Baez',\n",
    "                'Willson Contreras',\n",
    "                'Josh Bell', \n",
    "                'DJ LeMahieu',\n",
    "                'Manny Machado',\n",
    "                'Didi Gregorius',\n",
    "                'Bryce Harper',\n",
    "                'Christian Yelich',\n",
    "                'Aaron Hicks'\n",
    "               )\n",
    "s, p =game_simulator(players=line_up07_06, k= 500, threshold=36)\n",
    "plt.hist(s)\n",
    "plt.show()"
   ]
  },
  {
   "cell_type": "code",
   "execution_count": 375,
   "metadata": {},
   "outputs": [
    {
     "name": "stdout",
     "output_type": "stream",
     "text": [
      "variance of sim:9.17\n",
      "mean of sim: 27.77\n",
      "probability of getting a score higher than threshold: 0.89\n"
     ]
    },
    {
     "data": {
      "image/png": "[encoded data removed]",
      "text/plain": [
       "<Figure size 432x288 with 1 Axes>"
      ]
     },
     "metadata": {
      "needs_background": "light"
     },
     "output_type": "display_data"
    }
   ],
   "source": [
    "line_up07_07 = ('Jose Altuve',\n",
    "                'Yadier Molina',\n",
    "                'Josh Bell', \n",
    "                'DJ LeMahieu',\n",
    "                'Javier Baez',\n",
    "                'Francisco Lindor',\n",
    "                'Lorenzo Cain',\n",
    "                'Christian Yelich',\n",
    "                'Nick Markakis'\n",
    "               )\n",
    "s, p =game_simulator(players=line_up07_07, k= 500, threshold=16)\n",
    "plt.hist(s)\n",
    "plt.show()"
   ]
  },
  {
   "cell_type": "code",
   "execution_count": null,
   "metadata": {},
   "outputs": [],
   "source": []
  }
 ],
 "metadata": {
  "kernelspec": {
   "display_name": "Python 3",
   "language": "python",
   "name": "python3"
  },
  "language_info": {
   "codemirror_mode": {
    "name": "ipython",
    "version": 3
   },
   "file_extension": ".py",
   "mimetype": "text/x-python",
   "name": "python",
   "nbconvert_exporter": "python",
   "pygments_lexer": "ipython3",
   "version": "3.7.1"
  }
 },
 "nbformat": 4,
 "nbformat_minor": 2
}
