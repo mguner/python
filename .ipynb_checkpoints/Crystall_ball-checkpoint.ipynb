{
 "cells": [
  {
   "cell_type": "code",
   "execution_count": 1,
   "metadata": {},
   "outputs": [],
   "source": [
    "import numpy as np\n",
    "from random import randrange"
   ]
  },
  {
   "cell_type": "code",
   "execution_count": 2,
   "metadata": {},
   "outputs": [],
   "source": [
    "import numpy as np\n",
    "from random import randrange\n",
    "\n",
    "def crystal_ball(number_of_doors, number_of_players):\n",
    "    \n",
    "    doors = np.zeros(number_of_doors)\n",
    "    random_index = randrange(len(doors))\n",
    "    player_list = []\n",
    "    bid_dc = {}\n",
    "    winner = 0\n",
    "    if number_of_players >4:\n",
    "        return print('Too many players')\n",
    "    for i in range(number_of_players):\n",
    "        player_name = input(\"Player %d: Enter your name\\n\"%(i))\n",
    "        player_list.append(player_name)\n",
    "        \n",
    "    for player in player_list:\n",
    "        bid = int(input('%s enter your bid:'%(player)))\n",
    "        bid_dc[player] = bid\n",
    "    \n",
    "    \n",
    "    for (k,a) in enumerate(player_list):\n",
    "        player = min(bid_dc, key=bid_dc.get)\n",
    "        a_bid = min(bid_dc.values())\n",
    "        if k==0:\n",
    "            print('%s you won the bid! You go first\\n'%(player))\n",
    "        else:\n",
    "            print(\"%s It's your turn!Good Luck\\n\"%(player))\n",
    "        attempt = 0\n",
    "        small_gift = 0\n",
    "        for attempt in range(a_bid):\n",
    "            choice = int(input(\"%s: Choose a number between 0 and %d Attempt %d \\n :\"%(player, \n",
    "                                                                                       number_of_doors,\n",
    "                                                                                       attempt+1)\n",
    "                              )\n",
    "                        )\n",
    "            attempt +=1\n",
    "            if choice == random_index:\n",
    "                print('%s: You Won!!'%(player))\n",
    "                winner =1\n",
    "                return print('Winner is %s'%(player))\n",
    "            elif choice > random_index:\n",
    "                print('You got the found a small gift')\n",
    "                small_gift +=1\n",
    "                if small_gift >=2:\n",
    "                    print('This is your second small gift! You lost the game')\n",
    "                    break\n",
    "                else:\n",
    "                    continue\n",
    "            elif choice < random_index:\n",
    "                print('The door is empty')\n",
    "                continue\n",
    "        del(bid_dc[player])\n",
    "        print('%s reached to the end of your trial!'%(player))\n",
    "        if winner ==1:\n",
    "            break"
   ]
  },
  {
   "cell_type": "code",
   "execution_count": null,
   "metadata": {},
   "outputs": [
    {
     "name": "stdout",
     "output_type": "stream",
     "text": [
      "Player 0: Enter your name\n",
      "abby\n",
      "Player 1: Enter your name\n",
      "murat\n"
     ]
    }
   ],
   "source": [
    "crystal_ball(16, 2)"
   ]
  },
  {
   "cell_type": "code",
   "execution_count": null,
   "metadata": {},
   "outputs": [],
   "source": []
  }
 ],
 "metadata": {
  "kernelspec": {
   "display_name": "Python 3",
   "language": "python",
   "name": "python3"
  },
  "language_info": {
   "codemirror_mode": {
    "name": "ipython",
    "version": 3
   },
   "file_extension": ".py",
   "mimetype": "text/x-python",
   "name": "python",
   "nbconvert_exporter": "python",
   "pygments_lexer": "ipython3",
   "version": "3.7.1"
  }
 },
 "nbformat": 4,
 "nbformat_minor": 2
}
