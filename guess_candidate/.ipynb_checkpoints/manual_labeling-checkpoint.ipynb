{
 "cells": [
  {
   "cell_type": "code",
   "execution_count": 1,
   "metadata": {},
   "outputs": [
    {
     "ename": "FileNotFoundError",
     "evalue": "[Errno 2] No such file or directory: '/home/mrtgnr/Documents/Git/guess_candidate/assets2/Bernie'",
     "output_type": "error",
     "traceback": [
      "\u001b[0;31m---------------------------------------------------------------------------\u001b[0m",
      "\u001b[0;31mFileNotFoundError\u001b[0m                         Traceback (most recent call last)",
      "\u001b[0;32m<ipython-input-1-47503e48a3a3>\u001b[0m in \u001b[0;36m<module>\u001b[0;34m()\u001b[0m\n\u001b[1;32m     18\u001b[0m \u001b[0mcsv_files\u001b[0m \u001b[0;34m=\u001b[0m \u001b[0mdefaultdict\u001b[0m\u001b[0;34m(\u001b[0m\u001b[0mstr\u001b[0m\u001b[0;34m)\u001b[0m\u001b[0;34m\u001b[0m\u001b[0;34m\u001b[0m\u001b[0m\n\u001b[1;32m     19\u001b[0m \u001b[0;32mfor\u001b[0m \u001b[0mname\u001b[0m \u001b[0;32min\u001b[0m \u001b[0;34m[\u001b[0m\u001b[0;34m'Bernie'\u001b[0m\u001b[0;34m,\u001b[0m \u001b[0;34m'Trump'\u001b[0m\u001b[0;34m]\u001b[0m\u001b[0;34m:\u001b[0m\u001b[0;34m\u001b[0m\u001b[0;34m\u001b[0m\u001b[0m\n\u001b[0;32m---> 20\u001b[0;31m     \u001b[0mcsv_files\u001b[0m\u001b[0;34m[\u001b[0m\u001b[0mname\u001b[0m\u001b[0;34m]\u001b[0m \u001b[0;34m=\u001b[0m \u001b[0;34m[\u001b[0m\u001b[0mos\u001b[0m\u001b[0;34m.\u001b[0m\u001b[0mfsdecode\u001b[0m\u001b[0;34m(\u001b[0m\u001b[0mfile\u001b[0m\u001b[0;34m)\u001b[0m \u001b[0;32mfor\u001b[0m \u001b[0mfile\u001b[0m \u001b[0;32min\u001b[0m \u001b[0mos\u001b[0m\u001b[0;34m.\u001b[0m\u001b[0mlistdir\u001b[0m\u001b[0;34m(\u001b[0m\u001b[0mos\u001b[0m\u001b[0;34m.\u001b[0m\u001b[0mgetcwd\u001b[0m\u001b[0;34m(\u001b[0m\u001b[0;34m)\u001b[0m\u001b[0;34m+\u001b[0m\u001b[0;34m'/assets2/'\u001b[0m\u001b[0;34m+\u001b[0m \u001b[0mname\u001b[0m\u001b[0;34m)\u001b[0m                                         \u001b[0;32mif\u001b[0m \u001b[0mos\u001b[0m\u001b[0;34m.\u001b[0m\u001b[0mfsdecode\u001b[0m\u001b[0;34m(\u001b[0m\u001b[0mfile\u001b[0m\u001b[0;34m)\u001b[0m\u001b[0;34m.\u001b[0m\u001b[0mendswith\u001b[0m\u001b[0;34m(\u001b[0m\u001b[0;34m'.csv'\u001b[0m\u001b[0;34m)\u001b[0m\u001b[0;34m]\u001b[0m\u001b[0;34m\u001b[0m\u001b[0;34m\u001b[0m\u001b[0m\n\u001b[0m\u001b[1;32m     21\u001b[0m \u001b[0;34m\u001b[0m\u001b[0m\n\u001b[1;32m     22\u001b[0m \u001b[0;32mdef\u001b[0m \u001b[0mread_corpus\u001b[0m\u001b[0;34m(\u001b[0m\u001b[0mtokens_only\u001b[0m\u001b[0;34m=\u001b[0m\u001b[0;32mFalse\u001b[0m\u001b[0;34m)\u001b[0m\u001b[0;34m:\u001b[0m\u001b[0;34m\u001b[0m\u001b[0;34m\u001b[0m\u001b[0m\n",
      "\u001b[0;31mFileNotFoundError\u001b[0m: [Errno 2] No such file or directory: '/home/mrtgnr/Documents/Git/guess_candidate/assets2/Bernie'"
     ]
    }
   ],
   "source": [
    "import pandas as pd\n",
    "import numpy as np\n",
    "import os\n",
    "from collections import defaultdict\n",
    "import re\n",
    "\n",
    "import gensim\n",
    "import os\n",
    "import collections\n",
    "import smart_open\n",
    "import random\n",
    "\n",
    "df_videos = pd.read_csv('candidate_text_id.csv', index_col=0)\n",
    "df_videos = df_videos[df_videos.candidate.isin(['Bernie', 'Trump'])]\n",
    "df_videos.candidate.value_counts()\n",
    "\n",
    "#Get a list of the CSV files \n",
    "csv_files = defaultdict(str)\n",
    "for name in ['Bernie', 'Trump']:\n",
    "    csv_files[name] = [os.fsdecode(file) for file in os.listdir(os.getcwd()+'/assets2/'+ name) \\\n",
    "                                        if os.fsdecode(file).endswith('.csv')]\n",
    "                       \n",
    "def read_corpus(tokens_only=False):\n",
    "    j = 0\n",
    "    for foldername, files in csv_files.items():\n",
    "        path = os.getcwd() + '/assets2/' + foldername + '/'\n",
    "        print(path, j)\n",
    "        for file in files:\n",
    "            with smart_open.smart_open(path+file) as f:\n",
    "                for i, line in enumerate(f):\n",
    "                    if i%4==1:\n",
    "                        if tokens_only:\n",
    "                            yield gensim.utils.simple_preprocess(line)\n",
    "                        else:\n",
    "                            # For training data, add tags\n",
    "                            yield gensim.models.doc2vec.TaggedDocument(gensim.utils.simple_preprocess(line), [j])\n",
    "            j +=1\n",
    "train_corpus = list(read_corpus())"
   ]
  },
  {
   "cell_type": "code",
   "execution_count": 2,
   "metadata": {},
   "outputs": [],
   "source": [
    "def formatting(train_corpus):\n",
    "    sentence_list = [(train_corpus[i].words, train_corpus[i].tags[0]) for i in range(len(train_corpus))]\n",
    "    lst = [(sentence, 1) if i<193 else (sentence, 0) for (sentence, i) in sentence_list ]\n",
    "    lst = [(sentence,i) for (sentence, i) in lst  if sentence]\n",
    "    return lst"
   ]
  },
  {
   "cell_type": "code",
   "execution_count": 3,
   "metadata": {},
   "outputs": [],
   "source": [
    "import pickle"
   ]
  },
  {
   "cell_type": "code",
   "execution_count": 4,
   "metadata": {},
   "outputs": [],
   "source": [
    "def guess_candidate(train_corpus):\n",
    "    ## some formatting for the data before we start\n",
    "    lst = formatting(train_corpus)\n",
    "        \n",
    "    ## download data from previous attempts\n",
    "    ## if this is the first time then create and empty dict\n",
    "    try:\n",
    "        with open(r\"candidate_guess.pickle\", \"rb\") as input_file:\n",
    "            d = pickle.load(input_file)\n",
    "    except:\n",
    "        d = {}\n",
    "\n",
    "    ## if user already attempted get the record\n",
    "    name = input('please enter your name').lower()\n",
    "    name = 'murat'\n",
    "    if name in d.keys():\n",
    "        get_previous_data = d[name]\n",
    "        num_correct = get_previous_data['num_correct']\n",
    "        old_sample = get_previous_data['sample_size']\n",
    "        old_sentences = get_previous_data['guessed_sentences']\n",
    "        old_score = get_previous_data['score']\n",
    "        ## delete previously attempted sentences from list\n",
    "        lst = [(s, i) for (s, i) in lst if (s, i) not in old_sentences]\n",
    "    else:\n",
    "        d[name] = {'sample_size':0, \n",
    "                   'guessed_sentences': [],\n",
    "                   'score': 0,\n",
    "                   'attempted':0,\n",
    "                   'num_correct':0\n",
    "                  }\n",
    "        get_previous_data = d[name]\n",
    "        num_correct = get_previous_data['num_correct']\n",
    "        old_sample = get_previous_data['sample_size']\n",
    "        old_sentences = get_previous_data['guessed_sentences']\n",
    "        old_score = get_previous_data['score']\n",
    "    \n",
    "    ## ask user for how many sentence they want to label\n",
    "    sample_size = int(input('How many senteces do you want to guess? (0, 1000)\\n'))\n",
    "    \n",
    "    ## adjust the record\n",
    "    d[name]['attempted'] += sample_size\n",
    "    random_list = np.random.randint(0, len(lst), sample_size)\n",
    "    \n",
    "    ## create random sentences \n",
    "    sample_list = [lst[i] for i in random_list ]\n",
    "    ## adjust the record\n",
    "    d[name]['guessed_sentences'] += sample_list\n",
    "    \n",
    "    ## set correct answers to zero for this game\n",
    "    correct = 0\n",
    "    for sentence in sample_list:\n",
    "        input('press any key to continue...\\n')\n",
    "        guess = input('{} \\nBernie or Trump? Enter 1 for Bernie and 0 for Trump\\n'.format(sentence[0]))\n",
    "        tag = sentence[1]\n",
    "        if int(guess)==tag:\n",
    "            print('congrulations!!')\n",
    "            correct +=1\n",
    "        else:\n",
    "            print('The correct answer was {}'.format(tag))\n",
    "    d[name]['score'] = (num_correct+correct)/(d[name]['attempted'])\n",
    "    d[name]['num_correct'] += correct\n",
    "    print('score %.3f \\noverall human score is %.3f'%(correct/sample_size, d[name]['score']))\n",
    "    with open(r\"candidate_guess.pickle\", \"wb\") as output_file:\n",
    "        pickle.dump(d, output_file)\n",
    "            \n",
    "        "
   ]
  },
  {
   "cell_type": "code",
   "execution_count": 5,
   "metadata": {},
   "outputs": [
    {
     "name": "stdout",
     "output_type": "stream",
     "text": [
      "please enter your name2\n",
      "How many senteces do you want to guess? (0, 1000)\n",
      "2\n",
      "press any key to continue...\n",
      "\n",
      "['years', 'during', 'those', 'years', 've', 'heard'] \n",
      "Bernie or Trump? Enter 1 for Bernie and 0 for Trump\n",
      "0\n",
      "The correct answer was 1\n",
      "press any key to continue...\n",
      "\n",
      "['the', 'heralded', 'position', 'of', 'the', 'way', 'was'] \n",
      "Bernie or Trump? Enter 1 for Bernie and 0 for Trump\n",
      "1\n",
      "congrulations!!\n",
      "score 0.500 \n",
      "overall human score is 0.750\n"
     ]
    }
   ],
   "source": [
    "guess_candidate(train_corpus)"
   ]
  },
  {
   "cell_type": "code",
   "execution_count": 6,
   "metadata": {},
   "outputs": [],
   "source": [
    "with open(r\"candidate_guess.pickle\", \"rb\") as input_file:\n",
    "            a = pickle.load(input_file)"
   ]
  }
 ],
 "metadata": {
  "kernelspec": {
   "display_name": "Python 3",
   "language": "python",
   "name": "python3"
  },
  "language_info": {
   "codemirror_mode": {
    "name": "ipython",
    "version": 3
   },
   "file_extension": ".py",
   "mimetype": "text/x-python",
   "name": "python",
   "nbconvert_exporter": "python",
   "pygments_lexer": "ipython3",
   "version": "3.7.1"
  }
 },
 "nbformat": 4,
 "nbformat_minor": 2
}
