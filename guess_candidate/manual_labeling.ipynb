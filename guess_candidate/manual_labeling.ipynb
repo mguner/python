{
 "cells": [
  {
   "cell_type": "code",
   "execution_count": 1,
   "metadata": {},
   "outputs": [],
   "source": [
    "import pandas as pd\n",
    "import numpy as np\n",
    "import os\n",
    "from collections import defaultdict\n",
    "import re\n",
    "\n",
    "import gensim\n",
    "import os\n",
    "import collections\n",
    "import smart_open\n",
    "import random\n",
    "import pickle\n",
    "\n",
    "#Get a list of the CSV files \n",
    "with open(r\"train_corpus.pickle\", \"rb\") as input_file:\n",
    "        train_corpus = pickle.load(input_file)\n"
   ]
  },
  {
   "cell_type": "code",
   "execution_count": 2,
   "metadata": {},
   "outputs": [],
   "source": [
    "def formatting(train_corpus):\n",
    "    sentence_list = [(train_corpus[i].words, train_corpus[i].tags[0]) for i in range(len(train_corpus))]\n",
    "    lst = [(sentence, 1) if i<193 else (sentence, 0) for (sentence, i) in sentence_list ]\n",
    "    lst = [(sentence,i) for (sentence, i) in lst  if sentence]\n",
    "    return lst"
   ]
  },
  {
   "cell_type": "code",
   "execution_count": 3,
   "metadata": {},
   "outputs": [],
   "source": [
    "def guess_candidate(train_corpus):\n",
    "    ## some formatting for the data before we start\n",
    "    lst = formatting(train_corpus)\n",
    "        \n",
    "    ## download data from previous attempts\n",
    "    ## if this is the first time then create and empty dict\n",
    "    try:\n",
    "        with open(r\"candidate_guess.pickle\", \"rb\") as input_file:\n",
    "            d = pickle.load(input_file)\n",
    "    except:\n",
    "        d = {}\n",
    "\n",
    "    ## if user already attempted get the record\n",
    "    name = input('please enter your name').lower()\n",
    "    name = 'murat'\n",
    "    if name in d.keys():\n",
    "        get_previous_data = d[name]\n",
    "        num_correct = get_previous_data['num_correct']\n",
    "        old_sample = get_previous_data['sample_size']\n",
    "        old_sentences = get_previous_data['guessed_sentences']\n",
    "        old_score = get_previous_data['score']\n",
    "        ## delete previously attempted sentences from list\n",
    "        lst = [(s, i) for (s, i) in lst if (s, i) not in old_sentences]\n",
    "    else:\n",
    "        d[name] = {'sample_size':0, \n",
    "                   'guessed_sentences': [],\n",
    "                   'score': 0,\n",
    "                   'attempted':0,\n",
    "                   'num_correct':0\n",
    "                  }\n",
    "        get_previous_data = d[name]\n",
    "        num_correct = get_previous_data['num_correct']\n",
    "        old_sample = get_previous_data['sample_size']\n",
    "        old_sentences = get_previous_data['guessed_sentences']\n",
    "        old_score = get_previous_data['score']\n",
    "    \n",
    "    ## ask user for how many sentence they want to label\n",
    "    sample_size = int(input('How many senteces do you want to guess? (0, 1000)\\n'))\n",
    "    \n",
    "    ## adjust the record\n",
    "    d[name]['attempted'] += sample_size\n",
    "    random_list = np.random.randint(0, len(lst), sample_size)\n",
    "    \n",
    "    ## create random sentences \n",
    "    sample_list = [lst[i] for i in random_list ]\n",
    "    ## adjust the record\n",
    "    d[name]['guessed_sentences'] += sample_list\n",
    "    \n",
    "    ## set correct answers to zero for this game\n",
    "    correct = 0\n",
    "    for sentence in sample_list:\n",
    "        input('press any key to continue...\\n')\n",
    "        guess = input('{} \\nBernie or Trump? Enter 1 for Bernie and 0 for Trump\\n'.format(sentence[0]))\n",
    "        tag = sentence[1]\n",
    "        if int(guess)==tag:\n",
    "            print('congrulations!!')\n",
    "            correct +=1\n",
    "        else:\n",
    "            print('The correct answer was {}'.format(tag))\n",
    "    d[name]['score'] = (num_correct+correct)/(d[name]['attempted'])\n",
    "    d[name]['num_correct'] += correct\n",
    "    print('score %.3f \\noverall human score is %.3f'%(correct/sample_size, d[name]['score']))\n",
    "    with open(r\"candidate_guess.pickle\", \"wb\") as output_file:\n",
    "        pickle.dump(d, output_file)\n",
    "            \n",
    "        "
   ]
  },
  {
   "cell_type": "code",
   "execution_count": 12,
   "metadata": {},
   "outputs": [
    {
     "name": "stdout",
     "output_type": "stream",
     "text": [
      "please enter your namemurat\n",
      "How many senteces do you want to guess? (0, 1000)\n",
      "5\n",
      "press any key to continue...\n",
      "\n",
      "['are', 'held', 'in', 'high', 'esteem', 'and', 'in', 'finland'] \n",
      "Bernie or Trump? Enter 1 for Bernie and 0 for Trump\n",
      "0\n",
      "The correct answer was 1\n",
      "press any key to continue...\n",
      "\n",
      "['what', 'good', 'rock', 'group', 'now', 'they', 're', 'great'] \n",
      "Bernie or Trump? Enter 1 for Bernie and 0 for Trump\n",
      "0\n",
      "congrulations!!\n",
      "press any key to continue...\n",
      "\n",
      "['pipeline', 'if', 'somebody', 'terminally', 'ill', 'if'] \n",
      "Bernie or Trump? Enter 1 for Bernie and 0 for Trump\n",
      "1\n",
      "The correct answer was 0\n",
      "press any key to continue...\n",
      "\n",
      "['drain', 'you', 'know', 'don', 'really', 'see', 'bernie'] \n",
      "Bernie or Trump? Enter 1 for Bernie and 0 for Trump\n",
      "1\n",
      "congrulations!!\n",
      "press any key to continue...\n",
      "\n",
      "['international', 'stage', 'as', 'such', 'this', 'is'] \n",
      "Bernie or Trump? Enter 1 for Bernie and 0 for Trump\n",
      "1\n",
      "The correct answer was 0\n",
      "score 0.400 \n",
      "overall human score is 0.625\n"
     ]
    }
   ],
   "source": [
    "guess_candidate(train_corpus)"
   ]
  },
  {
   "cell_type": "code",
   "execution_count": 13,
   "metadata": {},
   "outputs": [
    {
     "data": {
      "text/plain": [
       "{'murat': {'sample_size': 0,\n",
       "  'guessed_sentences': [(['had',\n",
       "     'artificial',\n",
       "     'obstacles',\n",
       "     'put',\n",
       "     'in',\n",
       "     'our',\n",
       "     'path'],\n",
       "    0),\n",
       "   (['and', 'let', 'me', 'say', 'to', 'the', 'young', 'people', 'who'], 1),\n",
       "   (['think', 'most', 'of', 'you', 'people', 'like', 'sports', 'and'], 0),\n",
       "   (['keep', 'delivering', 'results', 'like', 'nobody', 'else'], 0),\n",
       "   (['grandchildren', 'immigrants', 'and', 'the', 'main'], 1),\n",
       "   (['defend', 'our', 'freedoms'], 0),\n",
       "   (['connecting', 'the', 'dots', 'to', 'the', 'communities'], 1),\n",
       "   (['college', 'and', 'career', 'readiness', 'which', 'is'], 1),\n",
       "   (['there', 'are', 'reasons', 'for', 'that', 'suffering', 'and'], 1),\n",
       "   (['sanctuary', 'cities', 'are', 'endangering', 'our'], 0),\n",
       "   (['everyone', 'would', 'be', 'on', 'level', 'playing'], 1),\n",
       "   (['are', 'held', 'in', 'high', 'esteem', 'and', 'in', 'finland'], 1),\n",
       "   (['what', 'good', 'rock', 'group', 'now', 'they', 're', 'great'], 0),\n",
       "   (['pipeline', 'if', 'somebody', 'terminally', 'ill', 'if'], 0),\n",
       "   (['drain', 'you', 'know', 'don', 'really', 'see', 'bernie'], 1),\n",
       "   (['international', 'stage', 'as', 'such', 'this', 'is'], 0)],\n",
       "  'score': 0.625,\n",
       "  'attempted': 16,\n",
       "  'num_correct': 10}}"
      ]
     },
     "execution_count": 13,
     "metadata": {},
     "output_type": "execute_result"
    }
   ],
   "source": [
    "with open(r\"candidate_guess.pickle\", \"rb\") as input_file:\n",
    "            a = pickle.load(input_file)\n",
    "a"
   ]
  },
  {
   "cell_type": "code",
   "execution_count": null,
   "metadata": {},
   "outputs": [],
   "source": []
  },
  {
   "cell_type": "code",
   "execution_count": null,
   "metadata": {},
   "outputs": [],
   "source": []
  }
 ],
 "metadata": {
  "kernelspec": {
   "display_name": "Python 3",
   "language": "python",
   "name": "python3"
  },
  "language_info": {
   "codemirror_mode": {
    "name": "ipython",
    "version": 3
   },
   "file_extension": ".py",
   "mimetype": "text/x-python",
   "name": "python",
   "nbconvert_exporter": "python",
   "pygments_lexer": "ipython3",
   "version": "3.7.1"
  }
 },
 "nbformat": 4,
 "nbformat_minor": 2
}
